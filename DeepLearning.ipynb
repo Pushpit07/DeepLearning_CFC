{
  "nbformat": 4,
  "nbformat_minor": 0,
  "metadata": {
    "colab": {
      "name": "DeepLearning.ipynb",
      "provenance": [],
      "authorship_tag": "ABX9TyN2v17Mr8vSjKjwBXadmZfv",
      "include_colab_link": true
    },
    "kernelspec": {
      "name": "python3",
      "display_name": "Python 3"
    },
    "language_info": {
      "name": "python"
    }
  },
  "cells": [
    {
      "cell_type": "markdown",
      "metadata": {
        "id": "view-in-github",
        "colab_type": "text"
      },
      "source": [
        "<a href=\"https://colab.research.google.com/github/Pushpit07/DeepLearning_CFC/blob/main/DeepLearning.ipynb\" target=\"_parent\"><img src=\"https://colab.research.google.com/assets/colab-badge.svg\" alt=\"Open In Colab\"/></a>"
      ]
    },
    {
      "cell_type": "code",
      "metadata": {
        "id": "UoqtO72uarp_"
      },
      "source": [
        "import tensorflow"
      ],
      "execution_count": 1,
      "outputs": []
    },
    {
      "cell_type": "code",
      "metadata": {
        "id": "fy3rFLa-avax"
      },
      "source": [
        "from tensorflow.keras.datasets import mnist"
      ],
      "execution_count": 2,
      "outputs": []
    },
    {
      "cell_type": "code",
      "metadata": {
        "colab": {
          "base_uri": "https://localhost:8080/"
        },
        "id": "2UjMykHva1Nn",
        "outputId": "5843801d-e41e-4a10-edb2-b998160a552f"
      },
      "source": [
        "(x_train, y_train), (x_test, y_test) = mnist.load_data()"
      ],
      "execution_count": 4,
      "outputs": [
        {
          "output_type": "stream",
          "text": [
            "Downloading data from https://storage.googleapis.com/tensorflow/tf-keras-datasets/mnist.npz\n",
            "11493376/11490434 [==============================] - 0s 0us/step\n"
          ],
          "name": "stdout"
        }
      ]
    },
    {
      "cell_type": "code",
      "metadata": {
        "colab": {
          "base_uri": "https://localhost:8080/"
        },
        "id": "7DYzrOWWbzA3",
        "outputId": "2bf04df8-9a01-464d-cb5f-811e05ce4efc"
      },
      "source": [
        "x_train.shape"
      ],
      "execution_count": 5,
      "outputs": [
        {
          "output_type": "execute_result",
          "data": {
            "text/plain": [
              "(60000, 28, 28)"
            ]
          },
          "metadata": {
            "tags": []
          },
          "execution_count": 5
        }
      ]
    },
    {
      "cell_type": "code",
      "metadata": {
        "colab": {
          "base_uri": "https://localhost:8080/"
        },
        "id": "70cnJsRJuFAm",
        "outputId": "d05c6013-703b-4ea9-93ca-880d86be268a"
      },
      "source": [
        "y_train.shape"
      ],
      "execution_count": 6,
      "outputs": [
        {
          "output_type": "execute_result",
          "data": {
            "text/plain": [
              "(60000,)"
            ]
          },
          "metadata": {
            "tags": []
          },
          "execution_count": 6
        }
      ]
    },
    {
      "cell_type": "code",
      "metadata": {
        "colab": {
          "base_uri": "https://localhost:8080/"
        },
        "id": "uj7qZaAduIV-",
        "outputId": "1a19b238-0cd7-4760-82b0-1d5695f7e5be"
      },
      "source": [
        "from tensorflow.keras.models import Model\n",
        "from tensorflow.keras.layers import Dense, Reshape, Input\n",
        "\n",
        "in_layer = Input((28, 28))\n",
        "flat = Reshape((784,))(in_layer)\n",
        "\n",
        "d1 = Dense(units=500, activation=\"sigmoid\")(flat)\n",
        "d2 = Dense(units=100, activation=\"sigmoid\")(d1)\n",
        "d3 = Dense(units=10, activation=\"softmax\")(d2)\n",
        "\n",
        "model = Model(in_layer, d3)\n",
        "\n",
        "model.summary()"
      ],
      "execution_count": 10,
      "outputs": [
        {
          "output_type": "stream",
          "text": [
            "Model: \"model\"\n",
            "_________________________________________________________________\n",
            "Layer (type)                 Output Shape              Param #   \n",
            "=================================================================\n",
            "input_4 (InputLayer)         [(None, 28, 28)]          0         \n",
            "_________________________________________________________________\n",
            "reshape_3 (Reshape)          (None, 784)               0         \n",
            "_________________________________________________________________\n",
            "dense_3 (Dense)              (None, 500)               392500    \n",
            "_________________________________________________________________\n",
            "dense_4 (Dense)              (None, 100)               50100     \n",
            "_________________________________________________________________\n",
            "dense_5 (Dense)              (None, 10)                1010      \n",
            "=================================================================\n",
            "Total params: 443,610\n",
            "Trainable params: 443,610\n",
            "Non-trainable params: 0\n",
            "_________________________________________________________________\n"
          ],
          "name": "stdout"
        }
      ]
    },
    {
      "cell_type": "code",
      "metadata": {
        "id": "3MxWKSHpzfLg"
      },
      "source": [
        "from tensorflow.keras.utils import to_categorical"
      ],
      "execution_count": 11,
      "outputs": []
    },
    {
      "cell_type": "code",
      "metadata": {
        "id": "IxmOxOuU4Pgs"
      },
      "source": [
        "y_train_hot = to_categorical(y_train, 10)"
      ],
      "execution_count": 12,
      "outputs": []
    },
    {
      "cell_type": "code",
      "metadata": {
        "colab": {
          "base_uri": "https://localhost:8080/"
        },
        "id": "hkwVt2I44TnJ",
        "outputId": "48e4365b-b999-4b38-bdf4-b3e86fc0ea0c"
      },
      "source": [
        "y_train_hot.shape"
      ],
      "execution_count": 13,
      "outputs": [
        {
          "output_type": "execute_result",
          "data": {
            "text/plain": [
              "(60000, 10)"
            ]
          },
          "metadata": {
            "tags": []
          },
          "execution_count": 13
        }
      ]
    },
    {
      "cell_type": "code",
      "metadata": {
        "colab": {
          "base_uri": "https://localhost:8080/"
        },
        "id": "qNcSvNPD4VkN",
        "outputId": "4d4f94c7-71f0-4d25-cf88-12a0e64416a8"
      },
      "source": [
        "model.compile(optimizer=\"adam\", loss=\"binary_crossentropy\", metrics=[\"accuracy\"])\n",
        "model.fit(x_train, y_train_hot, epochs=10, batch_size=1000)"
      ],
      "execution_count": 16,
      "outputs": [
        {
          "output_type": "stream",
          "text": [
            "Epoch 1/10\n",
            "60/60 [==============================] - 3s 43ms/step - loss: 0.2982 - accuracy: 0.5895\n",
            "Epoch 2/10\n",
            "60/60 [==============================] - 3s 44ms/step - loss: 0.1781 - accuracy: 0.8501\n",
            "Epoch 3/10\n",
            "60/60 [==============================] - 3s 43ms/step - loss: 0.1180 - accuracy: 0.9015\n",
            "Epoch 4/10\n",
            "60/60 [==============================] - 3s 42ms/step - loss: 0.0860 - accuracy: 0.9165\n",
            "Epoch 5/10\n",
            "60/60 [==============================] - 3s 43ms/step - loss: 0.0683 - accuracy: 0.9256\n",
            "Epoch 6/10\n",
            "60/60 [==============================] - 3s 43ms/step - loss: 0.0579 - accuracy: 0.9330\n",
            "Epoch 7/10\n",
            "60/60 [==============================] - 3s 43ms/step - loss: 0.0504 - accuracy: 0.9392\n",
            "Epoch 8/10\n",
            "60/60 [==============================] - 3s 42ms/step - loss: 0.0453 - accuracy: 0.9441\n",
            "Epoch 9/10\n",
            "60/60 [==============================] - 3s 43ms/step - loss: 0.0412 - accuracy: 0.9479\n",
            "Epoch 10/10\n",
            "60/60 [==============================] - 3s 43ms/step - loss: 0.0380 - accuracy: 0.9504\n"
          ],
          "name": "stdout"
        },
        {
          "output_type": "execute_result",
          "data": {
            "text/plain": [
              "<tensorflow.python.keras.callbacks.History at 0x7f236e3a5150>"
            ]
          },
          "metadata": {
            "tags": []
          },
          "execution_count": 16
        }
      ]
    },
    {
      "cell_type": "code",
      "metadata": {
        "colab": {
          "base_uri": "https://localhost:8080/"
        },
        "id": "iAwVMkp54bR3",
        "outputId": "e1f43278-290e-4cab-af51-eb275e4a8869"
      },
      "source": [
        "model.predict(x_test[:10]).argmax(axis=1)"
      ],
      "execution_count": 17,
      "outputs": [
        {
          "output_type": "execute_result",
          "data": {
            "text/plain": [
              "array([7, 2, 1, 0, 4, 1, 4, 9, 6, 9])"
            ]
          },
          "metadata": {
            "tags": []
          },
          "execution_count": 17
        }
      ]
    },
    {
      "cell_type": "code",
      "metadata": {
        "colab": {
          "base_uri": "https://localhost:8080/"
        },
        "id": "V2Uu8RT85MzZ",
        "outputId": "f4073dc2-e10d-4fd7-b162-b0c13fe333e7"
      },
      "source": [
        "y_test[:10]"
      ],
      "execution_count": 18,
      "outputs": [
        {
          "output_type": "execute_result",
          "data": {
            "text/plain": [
              "array([7, 2, 1, 0, 4, 1, 4, 9, 5, 9], dtype=uint8)"
            ]
          },
          "metadata": {
            "tags": []
          },
          "execution_count": 18
        }
      ]
    },
    {
      "cell_type": "code",
      "metadata": {
        "id": "GXzwpMe15OKF"
      },
      "source": [
        ""
      ],
      "execution_count": null,
      "outputs": []
    }
  ]
}